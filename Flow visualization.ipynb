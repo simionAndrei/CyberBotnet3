{
 "cells": [
  {
   "cell_type": "code",
   "execution_count": 1,
   "metadata": {},
   "outputs": [],
   "source": [
    "from logger import Logger\n",
    "from utils import load_data\n",
    "from flow_visualization_utils import create_barplot, create_categories_heatmap, create_time_plot"
   ]
  },
  {
   "cell_type": "code",
   "execution_count": 2,
   "metadata": {},
   "outputs": [
    {
     "name": "stdout",
     "output_type": "stream",
     "text": [
      "2019.06.21-18:26:31 Initialize the logger\n",
      "2019.06.21-18:26:31 Create logs folder logs\n",
      "2019.06.21-18:26:31 Create log file logs\\2019-06-21_18_26_31_log0.html\n",
      "2019.06.21-18:26:31 Create models folder models\n",
      "2019.06.21-18:26:31 Create output folder output\n",
      "2019.06.21-18:26:31 Create data folder data\n",
      "2019.06.21-18:26:31 Read config file config.txt\n"
     ]
    }
   ],
   "source": [
    "logger = Logger(show = True, html_output = True, config_file = \"config.txt\")"
   ]
  },
  {
   "cell_type": "code",
   "execution_count": 3,
   "metadata": {},
   "outputs": [
    {
     "name": "stdout",
     "output_type": "stream",
     "text": [
      "[2019.06.21-18:26:31] Start loading data from capture20110818.pcap.netflow.labeled...\n",
      "[2019.06.21-18:26:34] Line 100000: ['2011-08-18 10:25:45.327', '0.000', 'TCP', '209.85.148.99', '443', '147.32.84.170', '52538', 'A_', '0', '1', '66', '1', 'Background']\n",
      "[2019.06.21-18:26:35] Line 200000: ['2011-08-18 10:31:52.352', '0.000', 'UDP', '147.32.80.9', '53', '147.32.86.202', '57773', 'INT', '0', '1', '235', '1', 'Background']\n",
      "[2019.06.21-18:26:35] Line 300000: ['2011-08-18 10:38:00.055', '0.000', 'UDP', '180.214.210.177', '62384', '147.32.84.229', '13363', 'INT', '0', '1', '67', '1', 'Background']\n",
      "[2019.06.21-18:26:36] Line 400000: ['2011-08-18 10:44:11.165', '1.942', 'TCP', '38.101.148.126', '54209', '147.32.84.36', '80', 'PA_', '0', '4', '585', '1', 'Background']\n",
      "[2019.06.21-18:26:37] Line 500000: ['2011-08-18 10:50:29.484', '1.810', 'TCP', '147.32.84.59', '40142', '195.113.232.82', '80', 'SPA_', '0', '9', '1593', '1', 'Background']\n",
      "[2019.06.21-18:26:37] Line 600000: ['2011-08-18 10:56:32.539', '0.000', 'TCP', '199.59.148.139', '443', '147.32.84.59', '49194', 'PA_', '0', '1', '94', '1', 'Background']\n",
      "[2019.06.21-18:26:38] Line 700000: ['2011-08-18 11:02:48.388', '0.000', 'UDP', '85.160.19.97', '38241', '147.32.85.115', '1194', 'INT', '0', '1', '95', '1', 'Background']\n",
      "[2019.06.21-18:26:38] Line 800000: ['2011-08-18 11:08:48.025', '0.000', 'TCP', '147.32.84.111', '5938', '90.177.97.221', '24965', 'PA_', '0', '1', '60', '1', 'Background']\n",
      "[2019.06.21-18:26:39] Line 900000: ['2011-08-18 11:14:39.729', '0.000', 'TCP', '147.32.84.229', '443', '85.70.133.51', '13632', 'PA_', '0', '1', '70', '1', 'Background']\n",
      "[2019.06.21-18:26:40] Line 1000000: ['2011-08-18 11:20:34.673', '0.303', 'TCP', '147.32.84.59', '55340', '80.239.149.16', '80', 'SPA_', '0', '4', '765', '1', 'Background']\n",
      "[2019.06.21-18:26:40] Line 1100000: ['2011-08-18 11:26:40.007', '0.000', 'TCP', '147.32.84.94', '51414', '78.46.102.238', '38088', 'RA_', '0', '1', '66', '1', 'Background']\n",
      "[2019.06.21-18:26:41] Line 1200000: ['2011-08-18 11:32:32.076', '0.010', 'TCP', '147.32.86.89', '2482', '194.228.3.83', '80', '_FSPA', '0', '5', '770', '1', 'Background']\n",
      "[2019.06.21-18:26:41] Line 1300000: ['2011-08-18 11:38:45.604', '0.000', 'UDP', '46.107.184.230', '40901', '147.32.84.229', '13363', 'INT', '0', '1', '62', '1', 'Background']\n",
      "[2019.06.21-18:26:42] Line 1400000: ['2011-08-18 11:45:09.609', '0.001', 'TCP', '147.32.84.229', '13363', '147.32.121.72', '4184', 'PA_', '0', '2', '120', '1', 'Background']\n",
      "[2019.06.21-18:26:43] Line 1500000: ['2011-08-18 11:51:26.703', '0.000', 'UDP', '147.32.84.59', '57676', '147.32.80.9', '53', 'INT', '0', '1', '92', '1', 'Background']\n",
      "[2019.06.21-18:26:43] Line 1600000: ['2011-08-18 11:57:43.616', '0.000', 'UDP', '78.141.179.11', '34023', '147.32.84.229', '13363', 'INT', '0', '1', '62', '1', 'Background']\n",
      "[2019.06.21-18:26:44] Line 1700000: ['2011-08-18 12:04:02.010', '0.016', 'TCP', '92.123.64.130', '80', '147.32.84.59', '54864', 'FA_', '0', '2', '132', '1', 'Background']\n",
      "[2019.06.21-18:26:44] Line 1800000: ['2011-08-18 12:10:19.457', '4.000', 'ICMP', '147.32.84.138', None, '147.32.80.13', None, 'URP', '0', '5', '2950', '1', 'Background']\n",
      "[2019.06.21-18:26:45] Line 1900000: ['2011-08-18 12:16:16.723', '0.258', 'TCP', '147.32.84.134', '39740', '66.220.158.11', '443', 'PA_', '0', '5', '2785', '1', 'LEGITIMATE']\n",
      "[2019.06.21-18:26:46] Line 2000000: ['2011-08-18 12:22:24.521', '0.000', 'TCP', '147.32.84.229', '13363', '88.209.68.224', '50865', 'PA_', '0', '1', '60', '1', 'Background']\n",
      "[2019.06.21-18:26:46] Line 2100000: ['2011-08-18 12:27:42.182', '0.000', 'ICMP', '147.32.96.69', None, '147.32.84.206', None, 'ECR', '0', '1', '1066', '1', 'Botnet']\n",
      "[2019.06.21-18:26:46] Line 2200000: ['2011-08-18 12:32:47.616', '0.000', 'ICMP', '147.32.84.192', None, '147.32.96.69', None, 'ECO', '0', '1', '1066', '1', 'Botnet']\n",
      "[2019.06.21-18:26:47] Line 2300000: ['2011-08-18 12:36:34.996', '0.000', 'UDP', '87.18.127.249', '42074', '147.32.84.59', '60276', 'INT', '0', '1', '60', '1', 'Background']\n",
      "[2019.06.21-18:26:48] Line 2400000: ['2011-08-18 12:42:09.043', '0.075', 'TCP', '92.234.18.207', '49302', '147.32.84.229', '13363', 'PA_', '0', '2', '127', '1', 'Background']\n",
      "[2019.06.21-18:26:48] Line 2500000: ['2011-08-18 12:47:45.167', '1.996', 'UDP', '147.32.84.229', '13363', '175.96.78.209', '15552', 'INT', '0', '2', '198', '1', 'Background']\n",
      "[2019.06.21-18:26:49] Line 2600000: ['2011-08-18 12:53:17.581', '0.000', 'UDP', '85.242.148.20', '53569', '147.32.84.229', '13363', 'INT', '0', '1', '192', '1', 'Background']\n",
      "[2019.06.21-18:26:49] Line 2700000: ['2011-08-18 12:59:07.055', '0.106', 'TCP', '147.32.80.7', '10619', '147.32.87.4', '25', 'FSPA_', '0', '13', '3493', '1', 'Background']\n",
      "[2019.06.21-18:26:50] Line 2800000: ['2011-08-18 13:04:37.604', '0.000', 'UDP', '147.32.84.229', '13363', '66.227.191.235', '19548', 'INT', '0', '1', '138', '1', 'Background']\n",
      "[2019.06.21-18:26:50] Line 2900000: ['2011-08-18 13:09:52.309', '0.000', 'UDP', '147.32.80.9', '53', '147.32.84.59', '54143', 'INT', '0', '1', '358', '1', 'Background']\n",
      "[2019.06.21-18:26:52] Line 3000000: ['2011-08-18 13:14:58.113', '0.183', 'TCP', '147.32.84.229', '443', '195.187.155.2', '35612', 'PA_', '0', '2', '121', '1', 'Background']\n",
      "[2019.06.21-18:26:52] Line 3100000: ['2011-08-18 13:20:05.217', '0.000', 'UDP', '147.32.84.229', '13363', '81.22.162.228', '20787', 'INT', '0', '1', '60', '1', 'Background']\n",
      "[2019.06.21-18:26:52] Line 3200000: ['2011-08-18 13:25:01.332', '0.000', 'UDP', '147.32.84.229', '13363', '83.228.49.195', '47546', 'INT', '0', '1', '60', '1', 'Background']\n",
      "[2019.06.21-18:26:53] Line 3300000: ['2011-08-18 13:29:40.785', '0.000', 'UDP', '109.64.107.221', '54730', '147.32.84.229', '13363', 'INT', '0', '1', '75', '1', 'Background']\n",
      "[2019.06.21-18:26:53] Line 3400000: ['2011-08-18 13:34:33.221', '0.000', 'UDP', '147.32.85.25', '58257', '147.32.80.9', '53', 'INT', '0', '1', '85', '1', 'Background']\n",
      "[2019.06.21-18:26:54] Line 3500000: ['2011-08-18 13:39:38.572', '0.000', 'UDP', '147.32.80.9', '53', '147.32.84.138', '57851', 'INT', '0', '1', '133', '1', 'Background']\n",
      "[2019.06.21-18:26:54] Line 3600000: ['2011-08-18 13:44:54.087', '0.000', 'TCP', '173.239.65.23', '80', '147.32.84.68', '63636', 'FA_', '0', '1', '60', '1', 'Background']\n",
      "[2019.06.21-18:26:56] Line 3700000: ['2011-08-18 13:50:01.658', '0.290', 'TCP', '149.5.45.252', '43057', '147.32.86.208', '8308', 'PA_', '0', '3', '184', '1', 'Background']\n",
      "[2019.06.21-18:26:56] Line 3800000: ['2011-08-18 13:55:05.505', '0.000', 'UDP', '147.32.84.229', '13363', '84.115.137.93', '53662', 'INT', '0', '1', '62', '1', 'Background']\n",
      "[2019.06.21-18:26:57] Line 3900000: ['2011-08-18 14:00:37.537', '0.000', 'UDP', '147.32.84.138', '47166', '147.32.80.9', '53', 'INT', '0', '1', '81', '1', 'Background']\n",
      "[2019.06.21-18:26:57] Line 4000000: ['2011-08-18 14:06:20.916', '0.551', 'TCP', '86.146.122.143', '50757', '147.32.84.229', '13363', 'PA_', '0', '4', '1237', '1', 'Background']\n",
      "[2019.06.21-18:26:57] Line 4100000: ['2011-08-18 14:11:15.401', '0.000', 'UDP', '196.221.8.99', '12904', '147.32.84.229', '13363', 'INT', '0', '1', '185', '1', 'Background']\n",
      "[2019.06.21-18:26:58] Line 4200000: ['2011-08-18 14:15:38.086', '0.000', 'TCP', '139.179.175.177', '49230', '147.32.86.116', '443', 'A_', '0', '2', '120', '1', 'Background']\n",
      "[2019.06.21-18:26:58] Line 4300000: ['2011-08-18 14:20:35.837', '1.360', 'TCP', '151.31.162.175', '50374', '147.32.84.229', '13363', 'PA_', '0', '4', '303', '1', 'Background']\n",
      "[2019.06.21-18:26:59] Line 4400000: ['2011-08-18 14:25:38.901', '0.497', 'TCP', '147.32.86.223', '51092', '89.221.217.12', '1935', 'SRPA_', '0', '9', '4201', '1', 'Background']\n",
      "[2019.06.21-18:26:59] Line 4500000: ['2011-08-18 14:30:38.498', '0.038', 'TCP', '147.32.84.229', '13363', '134.59.11.70', '48864', 'PA_', '0', '2', '136', '1', 'Background']\n",
      "[2019.06.21-18:27:00] Line 4600000: ['2011-08-18 14:35:45.055', '0.000', 'UDP', '147.32.80.9', '53', '147.32.84.138', '59664', 'INT', '0', '1', '133', '1', 'Background']\n",
      "[2019.06.21-18:27:04] Line 4700000: ['2011-08-18 14:40:52.653', '0.000', 'UDP', '147.32.84.138', '51178', '147.32.80.9', '53', 'INT', '0', '1', '81', '1', 'Background']\n",
      "[2019.06.21-18:27:05] Line 4800000: ['2011-08-18 14:46:16.557', '0.291', 'TCP', '77.75.73.135', '80', '147.32.86.58', '4095', 'SPA_', '0', '8', '7569', '1', 'Background']\n"
     ]
    },
    {
     "name": "stdout",
     "output_type": "stream",
     "text": [
      "[2019.06.21-18:27:05] Line 4900000: ['2011-08-18 14:52:11.816', '0.000', 'UDP', '147.32.86.116', '19083', '24.147.125.100', '16828', 'INT', '0', '1', '61', '1', 'Background']\n",
      "[2019.06.21-18:27:06] Line 5000000: ['2011-08-18 14:56:52.579', '0.000', 'UDP', '178.40.174.113', '20581', '147.32.84.229', '13363', 'INT', '0', '1', '170', '1', 'Background']\n",
      "[2019.06.21-18:27:06] Line 5100000: ['2011-08-18 15:01:40.677', '1.060', 'TCP', '98.163.103.118', '3010', '147.32.84.229', '80', 'FRPA_', '0', '10', '716', '1', 'Background']\n",
      "[2019.06.21-18:27:42] Finished loading file [36.37s]\n"
     ]
    }
   ],
   "source": [
    "df = load_data(\"DATA_FILE2\", logger)\n",
    "\n",
    "df = df[df.label != \"Background\"]\n",
    "infected_host_ip = logger.config_dict['INFECTED_HOST2']\n",
    "df_host = df[(df['ip_src'] == infected_host_ip) | (df['ip_dest'] == infected_host_ip)]"
   ]
  },
  {
   "cell_type": "code",
   "execution_count": null,
   "metadata": {},
   "outputs": [
    {
     "data": {
      "image/png": "[encoded data removed]",
      "text/plain": [
       "<Figure size 1152x360 with 4 Axes>"
      ]
     },
     "metadata": {
      "needs_background": "light"
     },
     "output_type": "display_data"
    }
   ],
   "source": [
    "create_categories_heatmap(df, [\"protocol\", \"flags\"], \"prot_flags_heatm.png\", logger)"
   ]
  },
  {
   "cell_type": "code",
   "execution_count": null,
   "metadata": {},
   "outputs": [],
   "source": [
    "create_barplot(df_host, \"flags\", \"Flags distribution for an infected host\", \n",
    "    \"flags_count_infected.png\", logger)"
   ]
  },
  {
   "cell_type": "code",
   "execution_count": null,
   "metadata": {},
   "outputs": [],
   "source": [
    "create_time_plot(df, df_host, \"packets\", \"packets_leg-bot.png\", logger)"
   ]
  },
  {
   "cell_type": "code",
   "execution_count": null,
   "metadata": {},
   "outputs": [],
   "source": [
    "create_time_plot(df, df_host, \"bytes\", \"bytes_leg-bot.png\", logger)"
   ]
  },
  {
   "cell_type": "code",
   "execution_count": null,
   "metadata": {},
   "outputs": [],
   "source": [
    "create_time_plot(df, df_host, \"duration\", \"duration_leg-bot.png\", logger)"
   ]
  }
 ],
 "metadata": {
  "kernelspec": {
   "display_name": "Python 3",
   "language": "python",
   "name": "python3"
  },
  "language_info": {
   "codemirror_mode": {
    "name": "ipython",
    "version": 3
   },
   "file_extension": ".py",
   "mimetype": "text/x-python",
   "name": "python",
   "nbconvert_exporter": "python",
   "pygments_lexer": "ipython3",
   "version": "3.6.8"
  }
 },
 "nbformat": 4,
 "nbformat_minor": 2
}
